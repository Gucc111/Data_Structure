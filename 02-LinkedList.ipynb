{
 "cells": [
  {
   "cell_type": "code",
   "execution_count": 15,
   "metadata": {},
   "outputs": [],
   "source": [
    "class ListNode:\n",
    "    def __init__(self, val):\n",
    "        self.val = val\n",
    "        self.next = None"
   ]
  },
  {
   "cell_type": "code",
   "execution_count": 16,
   "metadata": {},
   "outputs": [],
   "source": [
    "class LinkedList:\n",
    "    def __init__(self):\n",
    "        self.head = None\n",
    "        self.len = 0\n",
    "    \n",
    "    def size(self):\n",
    "        return self.len\n",
    "    \n",
    "    #元素插入\n",
    "    def insert(self, pos, val):\n",
    "        if pos < 0 or pos > self.len: # 判断插入位置是否合法\n",
    "            raise ValueError('Invalid Position')\n",
    "        newNode = ListNode(val) # 对给定元素生成一个链表节点\n",
    "        if pos == 0: # \n",
    "            newNode.next = self.head # 如果插入位置为0，先把新节点的后继节点设为链表的头节点\n",
    "            self.head = newNode # 再把链表的头节点设为该新节点\n",
    "        else: # 如果插入位置不为0，先找到插入位置的前驱节点\n",
    "            prev = self.head # 从链表的头节点开始遍历\n",
    "            for _ in range(pos - 1):\n",
    "                prev = prev.next\n",
    "            newNode.next = prev.next # 先把新节点的后继节点设为其前驱节点原本的后继节点\n",
    "            prev.next = newNode # 再把其前驱节点的后继节点设为该新节点\n",
    "        self.len += 1\n",
    "\n",
    "    # 元素删除\n",
    "    def delete(self, pos):\n",
    "        if pos < 0 or pos > self.len: # 判断删除位置是否合法\n",
    "            raise ValueError('Invalid Position')\n",
    "        if pos == 0:\n",
    "            self.head = self.head.next # 如果删除位置为0，直接把链表的头节点设为其后继节点\n",
    "        else:\n",
    "            prev = self.head\n",
    "            for _ in range(pos - 1):\n",
    "                prev = prev.next\n",
    "            prev.next = prev.next.next # 将删除位置的前驱节点的后继节点设为其后继的后继节点\n",
    "        self.len -= 1\n",
    "    \n",
    "    # 元素修改\n",
    "    def update(self, pos, val):\n",
    "        if pos < 0 or pos > self.len: # 判断修改位置是否合法\n",
    "            raise ValueError('Invalid Position')\n",
    "        if pos == 0:\n",
    "            self.head.val = val # 如果修改位置为0，直接修改链表头节点的值\n",
    "        else: # 如果修改位置不为0，先找到当前要修改的节点\n",
    "            current = self.head\n",
    "            for _ in range(pos):\n",
    "                current = current.next\n",
    "            current.val = val\n",
    "    \n",
    "    # 元素查找\n",
    "    def search(self, val):\n",
    "        current = self.head\n",
    "        while current:\n",
    "            if current.val == val:\n",
    "                return current\n",
    "            current = current.next\n",
    "        return None\n",
    "    \n",
    "    # 元素索引\n",
    "    def index(self, val):\n",
    "        idx = 0\n",
    "        current = self.head\n",
    "        while current:\n",
    "            if current.val == val:\n",
    "                return idx\n",
    "            idx += 1\n",
    "            current = current.next\n",
    "        return -1\n",
    "    \n",
    "    # 链表打印\n",
    "    def print(self):\n",
    "        current = self.head\n",
    "        while current:\n",
    "            print(current.val, end='->')\n",
    "            current = current.next\n",
    "        print('None')\n",
    "    \n",
    "    def __str__(self):\n",
    "        cur = self.head\n",
    "        val_list = []\n",
    "        while cur:\n",
    "            val_list.append(cur.val)\n",
    "            cur = cur.next\n",
    "        return f'{val_list}'"
   ]
  },
  {
   "cell_type": "code",
   "execution_count": 17,
   "metadata": {},
   "outputs": [],
   "source": [
    "l = LinkedList()"
   ]
  },
  {
   "cell_type": "code",
   "execution_count": 18,
   "metadata": {},
   "outputs": [
    {
     "name": "stdout",
     "output_type": "stream",
     "text": [
      "9->None\n"
     ]
    }
   ],
   "source": [
    "l.insert(0, 9)\n",
    "l.print()"
   ]
  },
  {
   "cell_type": "code",
   "execution_count": 19,
   "metadata": {},
   "outputs": [
    {
     "name": "stdout",
     "output_type": "stream",
     "text": [
      "9->5->None\n"
     ]
    }
   ],
   "source": [
    "l.insert(1, 5)\n",
    "l.print()"
   ]
  },
  {
   "cell_type": "code",
   "execution_count": 20,
   "metadata": {},
   "outputs": [
    {
     "name": "stdout",
     "output_type": "stream",
     "text": [
      "8->3->2->9->5->None\n"
     ]
    }
   ],
   "source": [
    "l.insert(0, 8)\n",
    "l.insert(1, 2)\n",
    "l.insert(1, 3)\n",
    "l.print()"
   ]
  },
  {
   "cell_type": "code",
   "execution_count": 24,
   "metadata": {},
   "outputs": [
    {
     "name": "stdout",
     "output_type": "stream",
     "text": [
      "[8, 3, 2, 9, 5]\n"
     ]
    }
   ],
   "source": [
    "print(l)"
   ]
  },
  {
   "cell_type": "code",
   "execution_count": 61,
   "metadata": {},
   "outputs": [
    {
     "name": "stdout",
     "output_type": "stream",
     "text": [
      "5\n"
     ]
    }
   ],
   "source": [
    "cur = l.head\n",
    "pre = None\n",
    "n = 0\n",
    "while cur:\n",
    "    n += 1\n",
    "    temp = cur.next\n",
    "    cur.next = pre\n",
    "    pre = cur\n",
    "    cur = temp\n",
    "print(n)"
   ]
  },
  {
   "cell_type": "code",
   "execution_count": 71,
   "metadata": {},
   "outputs": [
    {
     "data": {
      "text/plain": [
       "9"
      ]
     },
     "execution_count": 71,
     "metadata": {},
     "output_type": "execute_result"
    }
   ],
   "source": [
    "pre.next.val"
   ]
  },
  {
   "cell_type": "code",
   "execution_count": 10,
   "metadata": {},
   "outputs": [
    {
     "name": "stdout",
     "output_type": "stream",
     "text": [
      "2->9->5->None\n"
     ]
    }
   ],
   "source": [
    "l.delete(1)\n",
    "l.delete(0)\n",
    "l.print()"
   ]
  },
  {
   "cell_type": "code",
   "execution_count": 12,
   "metadata": {},
   "outputs": [
    {
     "name": "stdout",
     "output_type": "stream",
     "text": [
      "2->666->999->None\n"
     ]
    }
   ],
   "source": [
    "l.upadate(2, 999)\n",
    "l.upadate(1, 666)\n",
    "l.print()"
   ]
  },
  {
   "cell_type": "code",
   "execution_count": 13,
   "metadata": {},
   "outputs": [
    {
     "name": "stdout",
     "output_type": "stream",
     "text": [
      "666\n"
     ]
    }
   ],
   "source": [
    "node = l.search(666)\n",
    "if node:\n",
    "    print(node.val)\n",
    "else:\n",
    "    print(None)"
   ]
  },
  {
   "cell_type": "code",
   "execution_count": 14,
   "metadata": {},
   "outputs": [
    {
     "name": "stdout",
     "output_type": "stream",
     "text": [
      "2\n"
     ]
    }
   ],
   "source": [
    "x = l.index(999)\n",
    "print(x)"
   ]
  },
  {
   "cell_type": "code",
   "execution_count": 15,
   "metadata": {},
   "outputs": [
    {
     "name": "stdout",
     "output_type": "stream",
     "text": [
      "-1\n"
     ]
    }
   ],
   "source": [
    "x = l.index(333)\n",
    "print(x)"
   ]
  },
  {
   "cell_type": "code",
   "execution_count": 17,
   "metadata": {},
   "outputs": [
    {
     "data": {
      "text/plain": [
       "'0o12'"
      ]
     },
     "execution_count": 17,
     "metadata": {},
     "output_type": "execute_result"
    }
   ],
   "source": [
    "oct(10)"
   ]
  },
  {
   "cell_type": "code",
   "execution_count": 23,
   "metadata": {},
   "outputs": [],
   "source": [
    "test = [1, 0, 1]"
   ]
  },
  {
   "cell_type": "code",
   "execution_count": 39,
   "metadata": {},
   "outputs": [
    {
     "data": {
      "text/plain": [
       "[2, 1, 0]"
      ]
     },
     "execution_count": 39,
     "metadata": {},
     "output_type": "execute_result"
    }
   ],
   "source": [
    "idx_list = [i for i in range(len(test))]\n",
    "idx_list.sort(reverse=True)\n",
    "idx_list"
   ]
  },
  {
   "cell_type": "code",
   "execution_count": 40,
   "metadata": {},
   "outputs": [
    {
     "data": {
      "text/plain": [
       "5"
      ]
     },
     "execution_count": 40,
     "metadata": {},
     "output_type": "execute_result"
    }
   ],
   "source": [
    "sum(map(lambda x, y: x * 2 ** y, test, idx_list))"
   ]
  },
  {
   "cell_type": "code",
   "execution_count": 25,
   "metadata": {},
   "outputs": [],
   "source": [
    "test = set()"
   ]
  },
  {
   "cell_type": "code",
   "execution_count": 28,
   "metadata": {},
   "outputs": [],
   "source": [
    "test.add(1)"
   ]
  },
  {
   "cell_type": "code",
   "execution_count": 30,
   "metadata": {},
   "outputs": [
    {
     "data": {
      "text/plain": [
       "{1, 2}"
      ]
     },
     "execution_count": 30,
     "metadata": {},
     "output_type": "execute_result"
    }
   ],
   "source": [
    "test.add(2)\n",
    "test"
   ]
  },
  {
   "cell_type": "code",
   "execution_count": 32,
   "metadata": {},
   "outputs": [
    {
     "data": {
      "text/plain": [
       "{1, 2, 3}"
      ]
     },
     "execution_count": 32,
     "metadata": {},
     "output_type": "execute_result"
    }
   ],
   "source": [
    "test.add(3)\n",
    "test"
   ]
  },
  {
   "cell_type": "code",
   "execution_count": 34,
   "metadata": {},
   "outputs": [],
   "source": [
    "test = [1, 2, 3]"
   ]
  },
  {
   "cell_type": "code",
   "execution_count": 35,
   "metadata": {},
   "outputs": [
    {
     "data": {
      "text/plain": [
       "[3, 2, 1]"
      ]
     },
     "execution_count": 35,
     "metadata": {},
     "output_type": "execute_result"
    }
   ],
   "source": [
    "test[::-1]"
   ]
  }
 ],
 "metadata": {
  "kernelspec": {
   "display_name": "houseprices_kaggle",
   "language": "python",
   "name": "python3"
  },
  "language_info": {
   "codemirror_mode": {
    "name": "ipython",
    "version": 3
   },
   "file_extension": ".py",
   "mimetype": "text/x-python",
   "name": "python",
   "nbconvert_exporter": "python",
   "pygments_lexer": "ipython3",
   "version": "3.9.20"
  }
 },
 "nbformat": 4,
 "nbformat_minor": 2
}
