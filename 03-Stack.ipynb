{
 "cells": [
  {
   "cell_type": "markdown",
   "metadata": {},
   "source": [
    "# SequentialList实现Stack"
   ]
  },
  {
   "cell_type": "code",
   "execution_count": 1,
   "metadata": {},
   "outputs": [],
   "source": [
    "class Stack:\n",
    "    def __init__(self):\n",
    "        self.data = []\n",
    "    \n",
    "    # 入栈\n",
    "    def push(self, val):\n",
    "        self.data.append(val)\n",
    "    \n",
    "    # 出栈\n",
    "    def pop(self):\n",
    "        if self.empty():\n",
    "            return 'Stack is empty'\n",
    "        return self.data.pop()\n",
    "\n",
    "    # 获取栈顶元素\n",
    "    def top(self):\n",
    "        if self.empty():\n",
    "            return 'Stack is empty'\n",
    "        return self.data[-1]\n",
    "    \n",
    "    # 获取元素个数\n",
    "    def size(self):\n",
    "        return len(self.data)\n",
    "\n",
    "    # 栈的判空\n",
    "    def empty(self):\n",
    "        return len(self.data) == 0"
   ]
  },
  {
   "cell_type": "code",
   "execution_count": 2,
   "metadata": {},
   "outputs": [
    {
     "name": "stdout",
     "output_type": "stream",
     "text": [
      "5\n",
      "2\n"
     ]
    }
   ],
   "source": [
    "stk = Stack()\n",
    "stk.push(1)\n",
    "stk.push(2)\n",
    "stk.push(6)\n",
    "stk.push(5)\n",
    "\n",
    "while not stk.empty():\n",
    "    print(stk.pop())\n",
    "    stk.pop()"
   ]
  },
  {
   "cell_type": "code",
   "execution_count": 3,
   "metadata": {},
   "outputs": [
    {
     "data": {
      "text/plain": [
       "True"
      ]
     },
     "execution_count": 3,
     "metadata": {},
     "output_type": "execute_result"
    }
   ],
   "source": [
    "stk.empty()"
   ]
  },
  {
   "cell_type": "markdown",
   "metadata": {},
   "source": [
    "# LinkedList实现Stack"
   ]
  },
  {
   "cell_type": "code",
   "execution_count": 4,
   "metadata": {},
   "outputs": [],
   "source": [
    "class Node:\n",
    "    def __init__(self, val):\n",
    "        self.val = val\n",
    "        self.next = None\n",
    "\n",
    "class Stack:\n",
    "    def __init__(self):\n",
    "        self.head = None # 栈顶指针\n",
    "        self.len = 0\n",
    "    \n",
    "    # 入栈\n",
    "    def push(self, val):\n",
    "        newNode = Node(val)\n",
    "        newNode.next = self.head # 将新的栈顶的后继节点设为原栈顶\n",
    "        self.head = newNode # 将栈顶指针指向新的栈顶\n",
    "        self.len += 1\n",
    "    \n",
    "    # 出栈\n",
    "    def pop(self):\n",
    "        if self.empty():\n",
    "            return 'Stack is empty'\n",
    "        val = self.head.val\n",
    "        self.head = self.head.next\n",
    "        self.len -= 1\n",
    "        return val\n",
    "    \n",
    "    # 获取栈顶元素\n",
    "    def top(self):\n",
    "        if self.empty():\n",
    "            return 'Stack is empty'\n",
    "        return self.head.val\n",
    "    \n",
    "    # 获取元素个数\n",
    "    def size(self):\n",
    "        return self.len\n",
    "    \n",
    "    # 栈的判空\n",
    "    def empty(self):\n",
    "        return self.len == 0"
   ]
  },
  {
   "cell_type": "code",
   "execution_count": 5,
   "metadata": {},
   "outputs": [
    {
     "name": "stdout",
     "output_type": "stream",
     "text": [
      "5\n",
      "2\n"
     ]
    }
   ],
   "source": [
    "stk = Stack()\n",
    "stk.push(1)\n",
    "stk.push(2)\n",
    "stk.push(6)\n",
    "stk.push(5)\n",
    "\n",
    "while not stk.empty():\n",
    "    print(stk.pop())\n",
    "    stk.pop()"
   ]
  },
  {
   "cell_type": "code",
   "execution_count": 5,
   "metadata": {},
   "outputs": [],
   "source": [
    "test = []"
   ]
  },
  {
   "cell_type": "code",
   "execution_count": 2,
   "metadata": {},
   "outputs": [
    {
     "data": {
      "text/plain": [
       "1"
      ]
     },
     "execution_count": 2,
     "metadata": {},
     "output_type": "execute_result"
    }
   ],
   "source": [
    "test.pop()"
   ]
  },
  {
   "cell_type": "code",
   "execution_count": 6,
   "metadata": {},
   "outputs": [
    {
     "name": "stdout",
     "output_type": "stream",
     "text": [
      "2\n"
     ]
    }
   ],
   "source": [
    "if test:\n",
    "    print(1)\n",
    "else:\n",
    "    print(2)"
   ]
  },
  {
   "cell_type": "code",
   "execution_count": 3,
   "metadata": {},
   "outputs": [
    {
     "data": {
      "text/plain": [
       "[1, 2, 2]"
      ]
     },
     "execution_count": 3,
     "metadata": {},
     "output_type": "execute_result"
    }
   ],
   "source": [
    "test"
   ]
  },
  {
   "cell_type": "code",
   "execution_count": 7,
   "metadata": {},
   "outputs": [
    {
     "data": {
      "text/plain": [
       "2"
      ]
     },
     "execution_count": 7,
     "metadata": {},
     "output_type": "execute_result"
    }
   ],
   "source": [
    "max(test)"
   ]
  }
 ],
 "metadata": {
  "kernelspec": {
   "display_name": "houseprices_kaggle",
   "language": "python",
   "name": "python3"
  },
  "language_info": {
   "codemirror_mode": {
    "name": "ipython",
    "version": 3
   },
   "file_extension": ".py",
   "mimetype": "text/x-python",
   "name": "python",
   "nbconvert_exporter": "python",
   "pygments_lexer": "ipython3",
   "version": "3.9.20"
  }
 },
 "nbformat": 4,
 "nbformat_minor": 2
}
