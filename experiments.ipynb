{
 "cells": [
  {
   "cell_type": "code",
   "execution_count": 2,
   "id": "fb27f173",
   "metadata": {},
   "outputs": [],
   "source": [
    "from src.Data_Structure import *"
   ]
  },
  {
   "cell_type": "code",
   "execution_count": 11,
   "id": "f52c63e0",
   "metadata": {},
   "outputs": [
    {
     "name": "stdout",
     "output_type": "stream",
     "text": [
      "[2, 3, 4, 5]\n",
      "[1]\n",
      "\n",
      "[3, 4, 5]\n",
      "[1, 2]\n",
      "\n",
      "[4, 5]\n",
      "[1, 2, 3]\n",
      "\n",
      "[5]\n",
      "[1, 2, 3, 4]\n",
      "\n",
      "[]\n",
      "[1, 2, 3, 4, 5]\n",
      "\n"
     ]
    }
   ],
   "source": [
    "a = ArrayQueue()\n",
    "for i in range(5):\n",
    "    a.push(i + 1)\n",
    "\n",
    "b = ArrayQueue()\n",
    "while not a.is_empty():\n",
    "    b.push(a.pop())\n",
    "    print(a)\n",
    "    print(b)\n",
    "    print()"
   ]
  }
 ],
 "metadata": {
  "kernelspec": {
   "display_name": "deep_learning",
   "language": "python",
   "name": "python3"
  },
  "language_info": {
   "codemirror_mode": {
    "name": "ipython",
    "version": 3
   },
   "file_extension": ".py",
   "mimetype": "text/x-python",
   "name": "python",
   "nbconvert_exporter": "python",
   "pygments_lexer": "ipython3",
   "version": "3.9.20"
  }
 },
 "nbformat": 4,
 "nbformat_minor": 5
}
