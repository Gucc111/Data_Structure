{
 "cells": [
  {
   "cell_type": "markdown",
   "metadata": {},
   "source": [
    "# 用SequentialList实现Queue"
   ]
  },
  {
   "cell_type": "code",
   "execution_count": 29,
   "metadata": {},
   "outputs": [],
   "source": [
    "class Queue:\n",
    "    def __init__(self):\n",
    "        self.data = []\n",
    "        self.head = 0\n",
    "        self.tail = 0\n",
    "    \n",
    "    def push(self, val):\n",
    "        self.data.append(val)\n",
    "        self.tail += 1\n",
    "    \n",
    "    def pop(self):\n",
    "        if self.empty():\n",
    "            return 'Queue is empty'\n",
    "        val = self.data[self.head]\n",
    "        self.head += 1\n",
    "        return val\n",
    "    \n",
    "    def front(self):\n",
    "        if self.empty():\n",
    "            return 'Queue is empty'\n",
    "        return self.data[self.head]\n",
    "    \n",
    "    def size(self):\n",
    "        return self.tail - self.head\n",
    "\n",
    "    def empty(self):\n",
    "        return self.head == self.tail"
   ]
  },
  {
   "cell_type": "code",
   "execution_count": 33,
   "metadata": {},
   "outputs": [],
   "source": [
    "q = Queue()\n",
    "\n",
    "q.push(1)\n",
    "q.push(2)\n",
    "q.push(6)\n",
    "q.push(5)"
   ]
  },
  {
   "cell_type": "code",
   "execution_count": 34,
   "metadata": {},
   "outputs": [
    {
     "name": "stdout",
     "output_type": "stream",
     "text": [
      "1\n",
      "2\n",
      "6\n",
      "5\n"
     ]
    }
   ],
   "source": [
    "while not q.empty():\n",
    "    print(q.front())\n",
    "    q.pop()"
   ]
  },
  {
   "cell_type": "code",
   "execution_count": 35,
   "metadata": {},
   "outputs": [
    {
     "data": {
      "text/plain": [
       "True"
      ]
     },
     "execution_count": 35,
     "metadata": {},
     "output_type": "execute_result"
    }
   ],
   "source": [
    "q.empty()"
   ]
  },
  {
   "cell_type": "markdown",
   "metadata": {},
   "source": [
    "# 用LinkedList实现Queue"
   ]
  },
  {
   "cell_type": "code",
   "execution_count": 37,
   "metadata": {},
   "outputs": [],
   "source": [
    "class Node:\n",
    "    def __init__(self, val):\n",
    "        self.val = val\n",
    "        self.next = None"
   ]
  },
  {
   "cell_type": "code",
   "execution_count": 38,
   "metadata": {},
   "outputs": [],
   "source": [
    "class Queue:\n",
    "    def __init__(self):\n",
    "        self.head = None\n",
    "        self.tail = None\n",
    "        self.len = 0\n",
    "    \n",
    "    def push(self, val):\n",
    "        newNode = Node(val)\n",
    "        if not self.head:\n",
    "            self.head = newNode\n",
    "            self.tail = newNode\n",
    "        else:\n",
    "            self.tail.next = newNode\n",
    "            self.tail = newNode\n",
    "        self.len += 1\n",
    "    \n",
    "    def pop(self):\n",
    "        if self.empty():\n",
    "            return 'Queue is empty'\n",
    "        val = self.head.val\n",
    "        self.head = self.head.next\n",
    "        if not self.head:\n",
    "            self.tail = None\n",
    "        self.len -= 1\n",
    "        return val\n",
    "    \n",
    "    def front(self):\n",
    "        if self.empty():\n",
    "            return 'Queue is empty'\n",
    "        return self.head.val\n",
    "    \n",
    "    def size(self):\n",
    "        return self.len\n",
    "\n",
    "    def empty(self):\n",
    "        return not self.head"
   ]
  },
  {
   "cell_type": "code",
   "execution_count": 39,
   "metadata": {},
   "outputs": [],
   "source": [
    "q = Queue()\n",
    "\n",
    "q.push(1)\n",
    "q.push(2)\n",
    "q.push(6)\n",
    "q.push(5)"
   ]
  },
  {
   "cell_type": "code",
   "execution_count": 40,
   "metadata": {},
   "outputs": [
    {
     "name": "stdout",
     "output_type": "stream",
     "text": [
      "1\n",
      "2\n",
      "6\n",
      "5\n"
     ]
    }
   ],
   "source": [
    "while not q.empty():\n",
    "    print(q.front())\n",
    "    q.pop()"
   ]
  },
  {
   "cell_type": "code",
   "execution_count": 41,
   "metadata": {},
   "outputs": [
    {
     "data": {
      "text/plain": [
       "True"
      ]
     },
     "execution_count": 41,
     "metadata": {},
     "output_type": "execute_result"
    }
   ],
   "source": [
    "q.empty()"
   ]
  }
 ],
 "metadata": {
  "kernelspec": {
   "display_name": "houseprices_kaggle",
   "language": "python",
   "name": "python3"
  },
  "language_info": {
   "codemirror_mode": {
    "name": "ipython",
    "version": 3
   },
   "file_extension": ".py",
   "mimetype": "text/x-python",
   "name": "python",
   "nbconvert_exporter": "python",
   "pygments_lexer": "ipython3",
   "version": "3.9.20"
  }
 },
 "nbformat": 4,
 "nbformat_minor": 2
}
